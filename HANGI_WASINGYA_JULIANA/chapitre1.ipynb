{
 "cells": [
  {
   "cell_type": "markdown",
   "id": "da357c3c-8564-477b-a68c-fedb2838d9dc",
   "metadata": {},
   "source": [
    "# 1. Tableaux"
   ]
  },
  {
   "cell_type": "code",
   "execution_count": 974,
   "id": "9fa66945-9a8e-4ba4-a4b4-0eb3b1a7283b",
   "metadata": {},
   "outputs": [],
   "source": [
    "import numpy as np"
   ]
  },
  {
   "cell_type": "code",
   "execution_count": 975,
   "id": "3992ebbb-eded-402c-86cf-3700d26d7888",
   "metadata": {},
   "outputs": [],
   "source": [
    "## 1.1 Tableau 1D"
   ]
  },
  {
   "cell_type": "code",
   "execution_count": 976,
   "id": "02173664-416f-4180-8fe8-5cfb5b75b872",
   "metadata": {},
   "outputs": [
    {
     "name": "stdout",
     "output_type": "stream",
     "text": [
      "Dimensions du tableau (7,)\n",
      "Type du tableau <class 'numpy.ndarray'>\n",
      "[ 2  4  6  8 10  2 14]\n"
     ]
    }
   ],
   "source": [
    "# Creation d'un tableau a 1D\n",
    "tab_1D = np.array([2, 4, 6, 8, 10, 2, 14])\n",
    "\n",
    "print(\"Dimensions du tableau\", tab_1D.shape)\n",
    "print(\"Type du tableau\", type(tab_1D))\n",
    "print(tab_1D)"
   ]
  },
  {
   "cell_type": "markdown",
   "id": "8630c284-1992-4f45-87b2-b869becf7ee4",
   "metadata": {},
   "source": [
    "## 1.2. Tableau 2D"
   ]
  },
  {
   "cell_type": "code",
   "execution_count": 977,
   "id": "5a653ac4-2715-43a9-af01-9a4e01f64f7b",
   "metadata": {
    "scrolled": true
   },
   "outputs": [
    {
     "name": "stdout",
     "output_type": "stream",
     "text": [
      "Dimensions du tableau (3, 5)\n",
      "Type du tableau <class 'numpy.ndarray'>\n",
      "[[ 1  3  5  7  8]\n",
      " [11 33 55 77 88]\n",
      " [10 30 50 70 80]]\n"
     ]
    }
   ],
   "source": [
    "# creation d'un tableau a 2D\n",
    "tab_2D = np.array([\n",
    "    [1, 3, 5, 7, 8],\n",
    "    [11, 33, 55, 77, 88],\n",
    "    [10, 30, 50, 70, 80]\n",
    "])\n",
    "\n",
    "\n",
    "print(\"Dimensions du tableau\", tab_2D.shape)\n",
    "print(\"Type du tableau\", type(tab_2D))\n",
    "print(tab_2D)"
   ]
  },
  {
   "cell_type": "markdown",
   "id": "21a3634b-0346-4d9d-b0a9-8de6e4cc65ff",
   "metadata": {},
   "source": [
    "## 1.3 Tableau 3D"
   ]
  },
  {
   "cell_type": "code",
   "execution_count": 978,
   "id": "4d863167-0e0d-4c77-9d07-0be538bcb0c1",
   "metadata": {
    "scrolled": true
   },
   "outputs": [
    {
     "name": "stdout",
     "output_type": "stream",
     "text": [
      "Dimensions du tableau (1, 4, 6)\n",
      "Type du tableau <class 'numpy.ndarray'>\n",
      "[[[  11    9    7    5    3    1]\n",
      "  [ 110   90   70   50   30   10]\n",
      "  [ 115   95   75   55   35   15]\n",
      "  [1100  900  700  500  300  100]]]\n"
     ]
    }
   ],
   "source": [
    "# Creation de tableau 3D\n",
    "tab_3D = np.array([[\n",
    "    [11, 9, 7, 5, 3, 1],\n",
    "    [110, 90, 70, 50, 30, 10],\n",
    "    [115, 95, 75, 55, 35, 15],\n",
    "    [1100, 900, 700, 500, 300, 100]\n",
    "]])\n",
    "\n",
    "print(\"Dimensions du tableau\", tab_3D.shape)\n",
    "print(\"Type du tableau\", type(tab_3D))\n",
    "print(tab_3D)"
   ]
  },
  {
   "cell_type": "markdown",
   "id": "20656fcc-9c73-40ae-9a8d-b9ea8e9ff7b0",
   "metadata": {},
   "source": [
    "## 1.4 Tableau 4D"
   ]
  },
  {
   "cell_type": "code",
   "execution_count": 979,
   "id": "3c0d9346-f612-4d18-adb1-e3520d2e2ffb",
   "metadata": {},
   "outputs": [
    {
     "name": "stdout",
     "output_type": "stream",
     "text": [
      "Dimensions du tableau (1, 1, 4, 6)\n",
      "Type du tableau <class 'numpy.ndarray'>\n",
      "[[[[  11    9    7    5    3    1]\n",
      "   [ 110   90   70   50   30   10]\n",
      "   [ 115   95   75   55   35   15]\n",
      "   [1100  900  700  500  300  100]]]]\n"
     ]
    }
   ],
   "source": [
    "# Creation d'un tableau a 4D\n",
    "tab_4D = np.array([[[\n",
    "    [11, 9, 7, 5, 3, 1],\n",
    "    [110, 90, 70, 50, 30, 10],\n",
    "    [115, 95, 75, 55, 35, 15],\n",
    "    [1100, 900, 700, 500, 300, 100]\n",
    "]]])\n",
    "\n",
    "print(\"Dimensions du tableau\", tab_4D.shape)\n",
    "print(\"Type du tableau\", type(tab_4D))\n",
    "print(tab_4D)"
   ]
  },
  {
   "cell_type": "markdown",
   "id": "200a8ebb-bf81-4983-8fb7-e6a1fcd231e0",
   "metadata": {},
   "source": [
    "## B.OPERATIONS"
   ]
  },
  {
   "cell_type": "code",
   "execution_count": 980,
   "id": "b30bd0fa-9f6e-491a-97ba-9ec43c37e146",
   "metadata": {},
   "outputs": [],
   "source": [
    "a = np.array([\n",
    "    [2, 4, 6, 8],\n",
    "    [25, 45, 65, 85],\n",
    "])\n",
    "\n",
    "b = np.array([\n",
    "    [20, 40, 60, 80],\n",
    "    [250, 450, 650, 850],\n",
    "])"
   ]
  },
  {
   "cell_type": "code",
   "execution_count": 981,
   "id": "9522eaef-0bd3-4dd4-a803-57c6c2bb0914",
   "metadata": {},
   "outputs": [
    {
     "name": "stdout",
     "output_type": "stream",
     "text": [
      "(2, 4)\n",
      "[[ 2  4  6  8]\n",
      " [25 45 65 85]]\n",
      "(2, 4)\n",
      "[[ 20  40  60  80]\n",
      " [250 450 650 850]]\n"
     ]
    }
   ],
   "source": [
    "print(a.shape)\n",
    "print(a)\n",
    "print(b.shape)\n",
    "print(b)"
   ]
  },
  {
   "cell_type": "markdown",
   "id": "83feb9f1-8749-4b76-846e-e1291bef7a35",
   "metadata": {},
   "source": [
    "## ADDITION"
   ]
  },
  {
   "cell_type": "code",
   "execution_count": 982,
   "id": "45cb0690-3d63-4511-bcc5-08051a9f2b8d",
   "metadata": {},
   "outputs": [
    {
     "name": "stdout",
     "output_type": "stream",
     "text": [
      "[[ 22  44  66  88]\n",
      " [275 495 715 935]]\n"
     ]
    }
   ],
   "source": [
    "print(a+b)"
   ]
  },
  {
   "cell_type": "markdown",
   "id": "f1a7bcda-9a3d-424c-b770-3a7576bbf16b",
   "metadata": {},
   "source": [
    "## soustraction"
   ]
  },
  {
   "cell_type": "code",
   "execution_count": 983,
   "id": "841fd6ce-45d7-4ee2-8459-83fb3d1983f5",
   "metadata": {},
   "outputs": [
    {
     "name": "stdout",
     "output_type": "stream",
     "text": [
      "[[ -18  -36  -54  -72]\n",
      " [-225 -405 -585 -765]]\n"
     ]
    }
   ],
   "source": [
    "print(a-b)"
   ]
  },
  {
   "cell_type": "code",
   "execution_count": 984,
   "id": "fe510ce9-6531-4178-a515-f077f2c9d48c",
   "metadata": {},
   "outputs": [
    {
     "name": "stdout",
     "output_type": "stream",
     "text": [
      "[[ 18  36  54  72]\n",
      " [225 405 585 765]]\n"
     ]
    }
   ],
   "source": [
    "print(b-a)"
   ]
  },
  {
   "cell_type": "markdown",
   "id": "d9f279ce-ce97-439b-9ae4-d8964df4b91f",
   "metadata": {},
   "source": [
    "## multiplication "
   ]
  },
  {
   "cell_type": "code",
   "execution_count": 985,
   "id": "636664cd-8703-49a5-b53f-28fe2b03966c",
   "metadata": {},
   "outputs": [
    {
     "name": "stdout",
     "output_type": "stream",
     "text": [
      "[[   40   160   360   640]\n",
      " [ 6250 20250 42250 72250]]\n"
     ]
    }
   ],
   "source": [
    "print(a*b)"
   ]
  },
  {
   "cell_type": "markdown",
   "id": "9caf5778-df85-4227-9870-07c27aa71679",
   "metadata": {},
   "source": [
    "## DICTIONNAIRE"
   ]
  },
  {
   "cell_type": "code",
   "execution_count": 986,
   "id": "da1778a7-2574-4f33-b878-9e6eb89d54fe",
   "metadata": {},
   "outputs": [
    {
     "name": "stdout",
     "output_type": "stream",
     "text": [
      "{'matricule': '2022020122', 'nom': 'kasongo', 'prenom': 'david', 'age': 23, 'GPA': 'A'}\n"
     ]
    }
   ],
   "source": [
    "# creation de dictionnaire\n",
    "\n",
    "infos_etudiants = {\n",
    "    'matricule' : '2022020122',\n",
    "    'nom' : 'kasongo',\n",
    "    'prenom' : 'david',\n",
    "    'age' : 23,\n",
    "    'GPA' : 'A'\n",
    "}\n",
    "\n",
    "print(infos_etudiants)"
   ]
  },
  {
   "cell_type": "code",
   "execution_count": 987,
   "id": "429e0224-888e-4010-a2d5-d3b17bbd5d69",
   "metadata": {},
   "outputs": [
    {
     "name": "stdout",
     "output_type": "stream",
     "text": [
      "{'matricule': ['2022020123', '2022020786', '2022876453', '2022013456', '2022012323', '2022620123', '2012020786', '2022876553', '2027013456', '2022012327'], 'nom': ['sampatwa', 'kimenyembo', 'katumba', 'kalabo', 'kalombo', 'mzenda', 'ilunga', 'mzepu', 'mutunda', 'hangi'], 'prenom': ['diev', 'ketsia', 'justin', 'chris', 'pascal', 'ruth', 'irene', 'jean', 'vanessa', 'laily'], 'GPA': ['A', 'B', 'C', 'H', 'B', 'A', 'B', 'C', 'H', 'B']}\n"
     ]
    }
   ],
   "source": [
    "infos_tous_les_etudiants = {\n",
    "    'matricule' : ['2022020123', '2022020786', '2022876453', '2022013456', '2022012323', '2022620123', '2012020786', '2022876553', '2027013456', '2022012327'],\n",
    "    'nom' : ['sampatwa', 'kimenyembo', 'katumba', 'kalabo', 'kalombo','mzenda', 'ilunga', 'mzepu', 'mutunda', 'hangi'],\n",
    "    'prenom' : ['diev', 'ketsia', 'justin', 'chris', 'pascal', 'ruth', 'irene', 'jean', 'vanessa', 'laily'],\n",
    "    'GPA' : ['A', 'B', 'C', 'H', 'B', 'A', 'B', 'C', 'H', 'B']\n",
    "}\n",
    "\n",
    "print(infos_tous_les_etudiants)"
   ]
  },
  {
   "cell_type": "markdown",
   "id": "0599b3ed-bf3b-477c-8c50-16e70bc82226",
   "metadata": {},
   "source": [
    "## pandas"
   ]
  },
  {
   "cell_type": "code",
   "execution_count": 988,
   "id": "aa941311-6cb0-4d63-af9a-6d9bd0cee2e3",
   "metadata": {},
   "outputs": [],
   "source": [
    "import pandas as pd"
   ]
  },
  {
   "cell_type": "code",
   "execution_count": 989,
   "id": "090f1288-4cec-4dd1-8cab-f3db846fd565",
   "metadata": {},
   "outputs": [
    {
     "data": {
      "text/html": [
       "<div>\n",
       "<style scoped>\n",
       "    .dataframe tbody tr th:only-of-type {\n",
       "        vertical-align: middle;\n",
       "    }\n",
       "\n",
       "    .dataframe tbody tr th {\n",
       "        vertical-align: top;\n",
       "    }\n",
       "\n",
       "    .dataframe thead th {\n",
       "        text-align: right;\n",
       "    }\n",
       "</style>\n",
       "<table border=\"1\" class=\"dataframe\">\n",
       "  <thead>\n",
       "    <tr style=\"text-align: right;\">\n",
       "      <th></th>\n",
       "      <th>matricule</th>\n",
       "      <th>nom</th>\n",
       "      <th>prenom</th>\n",
       "      <th>GPA</th>\n",
       "    </tr>\n",
       "  </thead>\n",
       "  <tbody>\n",
       "    <tr>\n",
       "      <th>0</th>\n",
       "      <td>2022020123</td>\n",
       "      <td>sampatwa</td>\n",
       "      <td>diev</td>\n",
       "      <td>A</td>\n",
       "    </tr>\n",
       "    <tr>\n",
       "      <th>1</th>\n",
       "      <td>2022020786</td>\n",
       "      <td>kimenyembo</td>\n",
       "      <td>ketsia</td>\n",
       "      <td>B</td>\n",
       "    </tr>\n",
       "    <tr>\n",
       "      <th>2</th>\n",
       "      <td>2022876453</td>\n",
       "      <td>katumba</td>\n",
       "      <td>justin</td>\n",
       "      <td>C</td>\n",
       "    </tr>\n",
       "    <tr>\n",
       "      <th>3</th>\n",
       "      <td>2022013456</td>\n",
       "      <td>kalabo</td>\n",
       "      <td>chris</td>\n",
       "      <td>H</td>\n",
       "    </tr>\n",
       "    <tr>\n",
       "      <th>4</th>\n",
       "      <td>2022012323</td>\n",
       "      <td>kalombo</td>\n",
       "      <td>pascal</td>\n",
       "      <td>B</td>\n",
       "    </tr>\n",
       "    <tr>\n",
       "      <th>5</th>\n",
       "      <td>2022620123</td>\n",
       "      <td>mzenda</td>\n",
       "      <td>ruth</td>\n",
       "      <td>A</td>\n",
       "    </tr>\n",
       "    <tr>\n",
       "      <th>6</th>\n",
       "      <td>2012020786</td>\n",
       "      <td>ilunga</td>\n",
       "      <td>irene</td>\n",
       "      <td>B</td>\n",
       "    </tr>\n",
       "    <tr>\n",
       "      <th>7</th>\n",
       "      <td>2022876553</td>\n",
       "      <td>mzepu</td>\n",
       "      <td>jean</td>\n",
       "      <td>C</td>\n",
       "    </tr>\n",
       "    <tr>\n",
       "      <th>8</th>\n",
       "      <td>2027013456</td>\n",
       "      <td>mutunda</td>\n",
       "      <td>vanessa</td>\n",
       "      <td>H</td>\n",
       "    </tr>\n",
       "    <tr>\n",
       "      <th>9</th>\n",
       "      <td>2022012327</td>\n",
       "      <td>hangi</td>\n",
       "      <td>laily</td>\n",
       "      <td>B</td>\n",
       "    </tr>\n",
       "  </tbody>\n",
       "</table>\n",
       "</div>"
      ],
      "text/plain": [
       "    matricule         nom   prenom GPA\n",
       "0  2022020123    sampatwa     diev   A\n",
       "1  2022020786  kimenyembo   ketsia   B\n",
       "2  2022876453     katumba   justin   C\n",
       "3  2022013456      kalabo    chris   H\n",
       "4  2022012323     kalombo   pascal   B\n",
       "5  2022620123      mzenda     ruth   A\n",
       "6  2012020786      ilunga    irene   B\n",
       "7  2022876553       mzepu     jean   C\n",
       "8  2027013456     mutunda  vanessa   H\n",
       "9  2022012327       hangi    laily   B"
      ]
     },
     "execution_count": 989,
     "metadata": {},
     "output_type": "execute_result"
    }
   ],
   "source": [
    "donnees_etudiants = pd.DataFrame(infos_tous_les_etudiants)\n",
    "donnees_etudiants"
   ]
  },
  {
   "cell_type": "code",
   "execution_count": 990,
   "id": "f5ae1373-a974-4629-9576-d2c012dc54df",
   "metadata": {},
   "outputs": [
    {
     "data": {
      "text/html": [
       "<div>\n",
       "<style scoped>\n",
       "    .dataframe tbody tr th:only-of-type {\n",
       "        vertical-align: middle;\n",
       "    }\n",
       "\n",
       "    .dataframe tbody tr th {\n",
       "        vertical-align: top;\n",
       "    }\n",
       "\n",
       "    .dataframe thead th {\n",
       "        text-align: right;\n",
       "    }\n",
       "</style>\n",
       "<table border=\"1\" class=\"dataframe\">\n",
       "  <thead>\n",
       "    <tr style=\"text-align: right;\">\n",
       "      <th></th>\n",
       "      <th>matricule</th>\n",
       "      <th>nom</th>\n",
       "      <th>prenom</th>\n",
       "      <th>GPA</th>\n",
       "    </tr>\n",
       "  </thead>\n",
       "  <tbody>\n",
       "    <tr>\n",
       "      <th>0</th>\n",
       "      <td>2022020123</td>\n",
       "      <td>sampatwa</td>\n",
       "      <td>diev</td>\n",
       "      <td>A</td>\n",
       "    </tr>\n",
       "    <tr>\n",
       "      <th>1</th>\n",
       "      <td>2022020786</td>\n",
       "      <td>kimenyembo</td>\n",
       "      <td>ketsia</td>\n",
       "      <td>B</td>\n",
       "    </tr>\n",
       "    <tr>\n",
       "      <th>2</th>\n",
       "      <td>2022876453</td>\n",
       "      <td>katumba</td>\n",
       "      <td>justin</td>\n",
       "      <td>C</td>\n",
       "    </tr>\n",
       "    <tr>\n",
       "      <th>3</th>\n",
       "      <td>2022013456</td>\n",
       "      <td>kalabo</td>\n",
       "      <td>chris</td>\n",
       "      <td>H</td>\n",
       "    </tr>\n",
       "    <tr>\n",
       "      <th>4</th>\n",
       "      <td>2022012323</td>\n",
       "      <td>kalombo</td>\n",
       "      <td>pascal</td>\n",
       "      <td>B</td>\n",
       "    </tr>\n",
       "  </tbody>\n",
       "</table>\n",
       "</div>"
      ],
      "text/plain": [
       "    matricule         nom  prenom GPA\n",
       "0  2022020123    sampatwa    diev   A\n",
       "1  2022020786  kimenyembo  ketsia   B\n",
       "2  2022876453     katumba  justin   C\n",
       "3  2022013456      kalabo   chris   H\n",
       "4  2022012323     kalombo  pascal   B"
      ]
     },
     "execution_count": 990,
     "metadata": {},
     "output_type": "execute_result"
    }
   ],
   "source": [
    "donnees_etudiants.head()"
   ]
  },
  {
   "cell_type": "code",
   "execution_count": 991,
   "id": "2af423e4-a890-4596-bcf3-d979e4cf3054",
   "metadata": {},
   "outputs": [
    {
     "data": {
      "text/html": [
       "<div>\n",
       "<style scoped>\n",
       "    .dataframe tbody tr th:only-of-type {\n",
       "        vertical-align: middle;\n",
       "    }\n",
       "\n",
       "    .dataframe tbody tr th {\n",
       "        vertical-align: top;\n",
       "    }\n",
       "\n",
       "    .dataframe thead th {\n",
       "        text-align: right;\n",
       "    }\n",
       "</style>\n",
       "<table border=\"1\" class=\"dataframe\">\n",
       "  <thead>\n",
       "    <tr style=\"text-align: right;\">\n",
       "      <th></th>\n",
       "      <th>matricule</th>\n",
       "      <th>nom</th>\n",
       "      <th>prenom</th>\n",
       "      <th>GPA</th>\n",
       "    </tr>\n",
       "  </thead>\n",
       "  <tbody>\n",
       "    <tr>\n",
       "      <th>8</th>\n",
       "      <td>2027013456</td>\n",
       "      <td>mutunda</td>\n",
       "      <td>vanessa</td>\n",
       "      <td>H</td>\n",
       "    </tr>\n",
       "    <tr>\n",
       "      <th>9</th>\n",
       "      <td>2022012327</td>\n",
       "      <td>hangi</td>\n",
       "      <td>laily</td>\n",
       "      <td>B</td>\n",
       "    </tr>\n",
       "  </tbody>\n",
       "</table>\n",
       "</div>"
      ],
      "text/plain": [
       "    matricule      nom   prenom GPA\n",
       "8  2027013456  mutunda  vanessa   H\n",
       "9  2022012327    hangi    laily   B"
      ]
     },
     "execution_count": 991,
     "metadata": {},
     "output_type": "execute_result"
    }
   ],
   "source": [
    "donnees_etudiants.tail(2)"
   ]
  },
  {
   "cell_type": "code",
   "execution_count": 992,
   "id": "31cf01ea-602f-46da-a669-e899a1038ce2",
   "metadata": {},
   "outputs": [
    {
     "data": {
      "text/html": [
       "<div>\n",
       "<style scoped>\n",
       "    .dataframe tbody tr th:only-of-type {\n",
       "        vertical-align: middle;\n",
       "    }\n",
       "\n",
       "    .dataframe tbody tr th {\n",
       "        vertical-align: top;\n",
       "    }\n",
       "\n",
       "    .dataframe thead th {\n",
       "        text-align: right;\n",
       "    }\n",
       "</style>\n",
       "<table border=\"1\" class=\"dataframe\">\n",
       "  <thead>\n",
       "    <tr style=\"text-align: right;\">\n",
       "      <th></th>\n",
       "      <th>matricule</th>\n",
       "      <th>nom</th>\n",
       "    </tr>\n",
       "  </thead>\n",
       "  <tbody>\n",
       "    <tr>\n",
       "      <th>0</th>\n",
       "      <td>2022020123</td>\n",
       "      <td>sampatwa</td>\n",
       "    </tr>\n",
       "    <tr>\n",
       "      <th>1</th>\n",
       "      <td>2022020786</td>\n",
       "      <td>kimenyembo</td>\n",
       "    </tr>\n",
       "    <tr>\n",
       "      <th>2</th>\n",
       "      <td>2022876453</td>\n",
       "      <td>katumba</td>\n",
       "    </tr>\n",
       "    <tr>\n",
       "      <th>3</th>\n",
       "      <td>2022013456</td>\n",
       "      <td>kalabo</td>\n",
       "    </tr>\n",
       "    <tr>\n",
       "      <th>4</th>\n",
       "      <td>2022012323</td>\n",
       "      <td>kalombo</td>\n",
       "    </tr>\n",
       "    <tr>\n",
       "      <th>5</th>\n",
       "      <td>2022620123</td>\n",
       "      <td>mzenda</td>\n",
       "    </tr>\n",
       "    <tr>\n",
       "      <th>6</th>\n",
       "      <td>2012020786</td>\n",
       "      <td>ilunga</td>\n",
       "    </tr>\n",
       "    <tr>\n",
       "      <th>7</th>\n",
       "      <td>2022876553</td>\n",
       "      <td>mzepu</td>\n",
       "    </tr>\n",
       "    <tr>\n",
       "      <th>8</th>\n",
       "      <td>2027013456</td>\n",
       "      <td>mutunda</td>\n",
       "    </tr>\n",
       "    <tr>\n",
       "      <th>9</th>\n",
       "      <td>2022012327</td>\n",
       "      <td>hangi</td>\n",
       "    </tr>\n",
       "  </tbody>\n",
       "</table>\n",
       "</div>"
      ],
      "text/plain": [
       "    matricule         nom\n",
       "0  2022020123    sampatwa\n",
       "1  2022020786  kimenyembo\n",
       "2  2022876453     katumba\n",
       "3  2022013456      kalabo\n",
       "4  2022012323     kalombo\n",
       "5  2022620123      mzenda\n",
       "6  2012020786      ilunga\n",
       "7  2022876553       mzepu\n",
       "8  2027013456     mutunda\n",
       "9  2022012327       hangi"
      ]
     },
     "execution_count": 992,
     "metadata": {},
     "output_type": "execute_result"
    }
   ],
   "source": [
    "donnees_etudiants[['matricule', 'nom']]"
   ]
  },
  {
   "cell_type": "code",
   "execution_count": 993,
   "id": "f2b6d5e3-fca1-4ddc-9ef5-b2b6f95d2a92",
   "metadata": {},
   "outputs": [
    {
     "data": {
      "text/plain": [
       "0    2022020123\n",
       "1    2022020786\n",
       "2    2022876453\n",
       "3    2022013456\n",
       "4    2022012323\n",
       "5    2022620123\n",
       "6    2012020786\n",
       "7    2022876553\n",
       "8    2027013456\n",
       "9    2022012327\n",
       "Name: matricule, dtype: object"
      ]
     },
     "execution_count": 993,
     "metadata": {},
     "output_type": "execute_result"
    }
   ],
   "source": [
    "donnees_etudiants['matricule']"
   ]
  },
  {
   "cell_type": "code",
   "execution_count": 994,
   "id": "2110d4c6-f315-42a9-9eb6-896a873f872b",
   "metadata": {},
   "outputs": [
    {
     "data": {
      "text/html": [
       "<div>\n",
       "<style scoped>\n",
       "    .dataframe tbody tr th:only-of-type {\n",
       "        vertical-align: middle;\n",
       "    }\n",
       "\n",
       "    .dataframe tbody tr th {\n",
       "        vertical-align: top;\n",
       "    }\n",
       "\n",
       "    .dataframe thead th {\n",
       "        text-align: right;\n",
       "    }\n",
       "</style>\n",
       "<table border=\"1\" class=\"dataframe\">\n",
       "  <thead>\n",
       "    <tr style=\"text-align: right;\">\n",
       "      <th></th>\n",
       "      <th>nom</th>\n",
       "    </tr>\n",
       "  </thead>\n",
       "  <tbody>\n",
       "    <tr>\n",
       "      <th>1</th>\n",
       "      <td>kimenyembo</td>\n",
       "    </tr>\n",
       "  </tbody>\n",
       "</table>\n",
       "</div>"
      ],
      "text/plain": [
       "          nom\n",
       "1  kimenyembo"
      ]
     },
     "execution_count": 994,
     "metadata": {},
     "output_type": "execute_result"
    }
   ],
   "source": [
    "donnees_etudiants.iloc[1:2 , 1:2]"
   ]
  },
  {
   "cell_type": "code",
   "execution_count": 995,
   "id": "aa54980f-1a55-463a-bd4e-74899195de2e",
   "metadata": {},
   "outputs": [
    {
     "data": {
      "text/html": [
       "<div>\n",
       "<style scoped>\n",
       "    .dataframe tbody tr th:only-of-type {\n",
       "        vertical-align: middle;\n",
       "    }\n",
       "\n",
       "    .dataframe tbody tr th {\n",
       "        vertical-align: top;\n",
       "    }\n",
       "\n",
       "    .dataframe thead th {\n",
       "        text-align: right;\n",
       "    }\n",
       "</style>\n",
       "<table border=\"1\" class=\"dataframe\">\n",
       "  <thead>\n",
       "    <tr style=\"text-align: right;\">\n",
       "      <th></th>\n",
       "      <th>nom</th>\n",
       "      <th>prenom</th>\n",
       "    </tr>\n",
       "  </thead>\n",
       "  <tbody>\n",
       "    <tr>\n",
       "      <th>2</th>\n",
       "      <td>katumba</td>\n",
       "      <td>justin</td>\n",
       "    </tr>\n",
       "    <tr>\n",
       "      <th>3</th>\n",
       "      <td>kalabo</td>\n",
       "      <td>chris</td>\n",
       "    </tr>\n",
       "    <tr>\n",
       "      <th>4</th>\n",
       "      <td>kalombo</td>\n",
       "      <td>pascal</td>\n",
       "    </tr>\n",
       "    <tr>\n",
       "      <th>5</th>\n",
       "      <td>mzenda</td>\n",
       "      <td>ruth</td>\n",
       "    </tr>\n",
       "    <tr>\n",
       "      <th>6</th>\n",
       "      <td>ilunga</td>\n",
       "      <td>irene</td>\n",
       "    </tr>\n",
       "    <tr>\n",
       "      <th>7</th>\n",
       "      <td>mzepu</td>\n",
       "      <td>jean</td>\n",
       "    </tr>\n",
       "    <tr>\n",
       "      <th>8</th>\n",
       "      <td>mutunda</td>\n",
       "      <td>vanessa</td>\n",
       "    </tr>\n",
       "    <tr>\n",
       "      <th>9</th>\n",
       "      <td>hangi</td>\n",
       "      <td>laily</td>\n",
       "    </tr>\n",
       "  </tbody>\n",
       "</table>\n",
       "</div>"
      ],
      "text/plain": [
       "       nom   prenom\n",
       "2  katumba   justin\n",
       "3   kalabo    chris\n",
       "4  kalombo   pascal\n",
       "5   mzenda     ruth\n",
       "6   ilunga    irene\n",
       "7    mzepu     jean\n",
       "8  mutunda  vanessa\n",
       "9    hangi    laily"
      ]
     },
     "execution_count": 995,
     "metadata": {},
     "output_type": "execute_result"
    }
   ],
   "source": [
    "donnees_etudiants.iloc[ 2: , 1:3]"
   ]
  },
  {
   "cell_type": "code",
   "execution_count": 996,
   "id": "22f9289f-4ea3-4a84-8c05-7ffd6525eb90",
   "metadata": {},
   "outputs": [
    {
     "data": {
      "text/html": [
       "<div>\n",
       "<style scoped>\n",
       "    .dataframe tbody tr th:only-of-type {\n",
       "        vertical-align: middle;\n",
       "    }\n",
       "\n",
       "    .dataframe tbody tr th {\n",
       "        vertical-align: top;\n",
       "    }\n",
       "\n",
       "    .dataframe thead th {\n",
       "        text-align: right;\n",
       "    }\n",
       "</style>\n",
       "<table border=\"1\" class=\"dataframe\">\n",
       "  <thead>\n",
       "    <tr style=\"text-align: right;\">\n",
       "      <th></th>\n",
       "      <th>matricule</th>\n",
       "      <th>nom</th>\n",
       "      <th>prenom</th>\n",
       "      <th>GPA</th>\n",
       "    </tr>\n",
       "  </thead>\n",
       "  <tbody>\n",
       "    <tr>\n",
       "      <th>3</th>\n",
       "      <td>2022013456</td>\n",
       "      <td>kalabo</td>\n",
       "      <td>chris</td>\n",
       "      <td>H</td>\n",
       "    </tr>\n",
       "  </tbody>\n",
       "</table>\n",
       "</div>"
      ],
      "text/plain": [
       "    matricule     nom prenom GPA\n",
       "3  2022013456  kalabo  chris   H"
      ]
     },
     "execution_count": 996,
     "metadata": {},
     "output_type": "execute_result"
    }
   ],
   "source": [
    "donnees_etudiants.iloc[3:4, :]"
   ]
  },
  {
   "cell_type": "code",
   "execution_count": 997,
   "id": "1f205707-ffa1-42f0-984c-2672b3dfbcab",
   "metadata": {},
   "outputs": [
    {
     "data": {
      "text/html": [
       "<div>\n",
       "<style scoped>\n",
       "    .dataframe tbody tr th:only-of-type {\n",
       "        vertical-align: middle;\n",
       "    }\n",
       "\n",
       "    .dataframe tbody tr th {\n",
       "        vertical-align: top;\n",
       "    }\n",
       "\n",
       "    .dataframe thead th {\n",
       "        text-align: right;\n",
       "    }\n",
       "</style>\n",
       "<table border=\"1\" class=\"dataframe\">\n",
       "  <thead>\n",
       "    <tr style=\"text-align: right;\">\n",
       "      <th></th>\n",
       "      <th>matricule</th>\n",
       "      <th>nom</th>\n",
       "      <th>prenom</th>\n",
       "      <th>GPA</th>\n",
       "    </tr>\n",
       "  </thead>\n",
       "  <tbody>\n",
       "    <tr>\n",
       "      <th>0</th>\n",
       "      <td>2022020123</td>\n",
       "      <td>sampatwa</td>\n",
       "      <td>diev</td>\n",
       "      <td>A</td>\n",
       "    </tr>\n",
       "    <tr>\n",
       "      <th>1</th>\n",
       "      <td>2022020786</td>\n",
       "      <td>kimenyembo</td>\n",
       "      <td>ketsia</td>\n",
       "      <td>B</td>\n",
       "    </tr>\n",
       "    <tr>\n",
       "      <th>2</th>\n",
       "      <td>2022876453</td>\n",
       "      <td>katumba</td>\n",
       "      <td>justin</td>\n",
       "      <td>C</td>\n",
       "    </tr>\n",
       "    <tr>\n",
       "      <th>3</th>\n",
       "      <td>2022013456</td>\n",
       "      <td>kalabo</td>\n",
       "      <td>chris</td>\n",
       "      <td>H</td>\n",
       "    </tr>\n",
       "    <tr>\n",
       "      <th>4</th>\n",
       "      <td>2022012323</td>\n",
       "      <td>kalombo</td>\n",
       "      <td>pascal</td>\n",
       "      <td>B</td>\n",
       "    </tr>\n",
       "  </tbody>\n",
       "</table>\n",
       "</div>"
      ],
      "text/plain": [
       "    matricule         nom  prenom GPA\n",
       "0  2022020123    sampatwa    diev   A\n",
       "1  2022020786  kimenyembo  ketsia   B\n",
       "2  2022876453     katumba  justin   C\n",
       "3  2022013456      kalabo   chris   H\n",
       "4  2022012323     kalombo  pascal   B"
      ]
     },
     "execution_count": 997,
     "metadata": {},
     "output_type": "execute_result"
    }
   ],
   "source": [
    "donnees_etudiants.head()"
   ]
  },
  {
   "cell_type": "code",
   "execution_count": 998,
   "id": "e92a09d5-64c7-434d-9e18-7014562fa8e7",
   "metadata": {},
   "outputs": [
    {
     "data": {
      "text/plain": [
       "0    2022020123\n",
       "1    2022020786\n",
       "2    2022876453\n",
       "3    2022013456\n",
       "4    2022012323\n",
       "5    2022620123\n",
       "6    2012020786\n",
       "7    2022876553\n",
       "8    2027013456\n",
       "9    2022012327\n",
       "Name: matricule, dtype: object"
      ]
     },
     "execution_count": 998,
     "metadata": {},
     "output_type": "execute_result"
    }
   ],
   "source": [
    "donnees_etudiants['matricule']"
   ]
  },
  {
   "cell_type": "code",
   "execution_count": 999,
   "id": "c03fd737-e402-4756-8835-0f8f22475663",
   "metadata": {},
   "outputs": [
    {
     "data": {
      "text/plain": [
       "0      sampatwa\n",
       "1    kimenyembo\n",
       "2       katumba\n",
       "3        kalabo\n",
       "4       kalombo\n",
       "5        mzenda\n",
       "6        ilunga\n",
       "7         mzepu\n",
       "8       mutunda\n",
       "9         hangi\n",
       "Name: nom, dtype: object"
      ]
     },
     "execution_count": 999,
     "metadata": {},
     "output_type": "execute_result"
    }
   ],
   "source": [
    "donnees_etudiants['nom']"
   ]
  },
  {
   "cell_type": "code",
   "execution_count": 1000,
   "id": "25c801ab-187a-4fb6-967d-4b1e8dff47df",
   "metadata": {},
   "outputs": [
    {
     "data": {
      "text/html": [
       "<div>\n",
       "<style scoped>\n",
       "    .dataframe tbody tr th:only-of-type {\n",
       "        vertical-align: middle;\n",
       "    }\n",
       "\n",
       "    .dataframe tbody tr th {\n",
       "        vertical-align: top;\n",
       "    }\n",
       "\n",
       "    .dataframe thead th {\n",
       "        text-align: right;\n",
       "    }\n",
       "</style>\n",
       "<table border=\"1\" class=\"dataframe\">\n",
       "  <thead>\n",
       "    <tr style=\"text-align: right;\">\n",
       "      <th></th>\n",
       "      <th>matricule</th>\n",
       "      <th>nom</th>\n",
       "      <th>prenom</th>\n",
       "      <th>GPA</th>\n",
       "    </tr>\n",
       "  </thead>\n",
       "  <tbody>\n",
       "    <tr>\n",
       "      <th>3</th>\n",
       "      <td>2022013456</td>\n",
       "      <td>kalabo</td>\n",
       "      <td>chris</td>\n",
       "      <td>H</td>\n",
       "    </tr>\n",
       "  </tbody>\n",
       "</table>\n",
       "</div>"
      ],
      "text/plain": [
       "    matricule     nom prenom GPA\n",
       "3  2022013456  kalabo  chris   H"
      ]
     },
     "execution_count": 1000,
     "metadata": {},
     "output_type": "execute_result"
    }
   ],
   "source": [
    "donnees_etudiants.iloc[3:4, :]"
   ]
  },
  {
   "cell_type": "code",
   "execution_count": 1001,
   "id": "6b19c6ef-d3dd-4553-a463-71362cdba97f",
   "metadata": {},
   "outputs": [
    {
     "data": {
      "text/html": [
       "<div>\n",
       "<style scoped>\n",
       "    .dataframe tbody tr th:only-of-type {\n",
       "        vertical-align: middle;\n",
       "    }\n",
       "\n",
       "    .dataframe tbody tr th {\n",
       "        vertical-align: top;\n",
       "    }\n",
       "\n",
       "    .dataframe thead th {\n",
       "        text-align: right;\n",
       "    }\n",
       "</style>\n",
       "<table border=\"1\" class=\"dataframe\">\n",
       "  <thead>\n",
       "    <tr style=\"text-align: right;\">\n",
       "      <th></th>\n",
       "    </tr>\n",
       "  </thead>\n",
       "  <tbody>\n",
       "    <tr>\n",
       "      <th>3</th>\n",
       "    </tr>\n",
       "    <tr>\n",
       "      <th>4</th>\n",
       "    </tr>\n",
       "    <tr>\n",
       "      <th>5</th>\n",
       "    </tr>\n",
       "    <tr>\n",
       "      <th>6</th>\n",
       "    </tr>\n",
       "  </tbody>\n",
       "</table>\n",
       "</div>"
      ],
      "text/plain": [
       "Empty DataFrame\n",
       "Columns: []\n",
       "Index: [3, 4, 5, 6]"
      ]
     },
     "execution_count": 1001,
     "metadata": {},
     "output_type": "execute_result"
    }
   ],
   "source": [
    "donnees_etudiants.iloc[3:7, 8:4]"
   ]
  },
  {
   "cell_type": "code",
   "execution_count": 1002,
   "id": "110b0443-8878-49b1-b4ab-fa586833b3de",
   "metadata": {},
   "outputs": [
    {
     "data": {
      "text/plain": [
       "0    A\n",
       "1    B\n",
       "2    C\n",
       "3    H\n",
       "4    B\n",
       "5    A\n",
       "6    B\n",
       "7    C\n",
       "8    H\n",
       "9    B\n",
       "Name: GPA, dtype: object"
      ]
     },
     "execution_count": 1002,
     "metadata": {},
     "output_type": "execute_result"
    }
   ],
   "source": [
    "donnees_etudiants.iloc[ :, -1]"
   ]
  },
  {
   "cell_type": "code",
   "execution_count": 1003,
   "id": "ba33711b-4002-4bac-8c72-4f0a9fb81a87",
   "metadata": {},
   "outputs": [
    {
     "data": {
      "text/html": [
       "<div>\n",
       "<style scoped>\n",
       "    .dataframe tbody tr th:only-of-type {\n",
       "        vertical-align: middle;\n",
       "    }\n",
       "\n",
       "    .dataframe tbody tr th {\n",
       "        vertical-align: top;\n",
       "    }\n",
       "\n",
       "    .dataframe thead th {\n",
       "        text-align: right;\n",
       "    }\n",
       "</style>\n",
       "<table border=\"1\" class=\"dataframe\">\n",
       "  <thead>\n",
       "    <tr style=\"text-align: right;\">\n",
       "      <th></th>\n",
       "      <th>matricule</th>\n",
       "      <th>nom</th>\n",
       "      <th>prenom</th>\n",
       "    </tr>\n",
       "  </thead>\n",
       "  <tbody>\n",
       "    <tr>\n",
       "      <th>0</th>\n",
       "      <td>2022020123</td>\n",
       "      <td>sampatwa</td>\n",
       "      <td>diev</td>\n",
       "    </tr>\n",
       "    <tr>\n",
       "      <th>1</th>\n",
       "      <td>2022020786</td>\n",
       "      <td>kimenyembo</td>\n",
       "      <td>ketsia</td>\n",
       "    </tr>\n",
       "    <tr>\n",
       "      <th>2</th>\n",
       "      <td>2022876453</td>\n",
       "      <td>katumba</td>\n",
       "      <td>justin</td>\n",
       "    </tr>\n",
       "    <tr>\n",
       "      <th>3</th>\n",
       "      <td>2022013456</td>\n",
       "      <td>kalabo</td>\n",
       "      <td>chris</td>\n",
       "    </tr>\n",
       "    <tr>\n",
       "      <th>4</th>\n",
       "      <td>2022012323</td>\n",
       "      <td>kalombo</td>\n",
       "      <td>pascal</td>\n",
       "    </tr>\n",
       "    <tr>\n",
       "      <th>5</th>\n",
       "      <td>2022620123</td>\n",
       "      <td>mzenda</td>\n",
       "      <td>ruth</td>\n",
       "    </tr>\n",
       "    <tr>\n",
       "      <th>6</th>\n",
       "      <td>2012020786</td>\n",
       "      <td>ilunga</td>\n",
       "      <td>irene</td>\n",
       "    </tr>\n",
       "    <tr>\n",
       "      <th>7</th>\n",
       "      <td>2022876553</td>\n",
       "      <td>mzepu</td>\n",
       "      <td>jean</td>\n",
       "    </tr>\n",
       "    <tr>\n",
       "      <th>8</th>\n",
       "      <td>2027013456</td>\n",
       "      <td>mutunda</td>\n",
       "      <td>vanessa</td>\n",
       "    </tr>\n",
       "    <tr>\n",
       "      <th>9</th>\n",
       "      <td>2022012327</td>\n",
       "      <td>hangi</td>\n",
       "      <td>laily</td>\n",
       "    </tr>\n",
       "  </tbody>\n",
       "</table>\n",
       "</div>"
      ],
      "text/plain": [
       "    matricule         nom   prenom\n",
       "0  2022020123    sampatwa     diev\n",
       "1  2022020786  kimenyembo   ketsia\n",
       "2  2022876453     katumba   justin\n",
       "3  2022013456      kalabo    chris\n",
       "4  2022012323     kalombo   pascal\n",
       "5  2022620123      mzenda     ruth\n",
       "6  2012020786      ilunga    irene\n",
       "7  2022876553       mzepu     jean\n",
       "8  2027013456     mutunda  vanessa\n",
       "9  2022012327       hangi    laily"
      ]
     },
     "execution_count": 1003,
     "metadata": {},
     "output_type": "execute_result"
    }
   ],
   "source": [
    "donnees_etudiants.iloc[ :, :-1]"
   ]
  },
  {
   "cell_type": "code",
   "execution_count": 1004,
   "id": "e237f0d5-40bf-4de5-ae1e-213f807079c7",
   "metadata": {},
   "outputs": [
    {
     "data": {
      "text/plain": [
       "0       diev\n",
       "1     ketsia\n",
       "2     justin\n",
       "3      chris\n",
       "4     pascal\n",
       "5       ruth\n",
       "6      irene\n",
       "7       jean\n",
       "8    vanessa\n",
       "9      laily\n",
       "Name: prenom, dtype: object"
      ]
     },
     "execution_count": 1004,
     "metadata": {},
     "output_type": "execute_result"
    }
   ],
   "source": [
    "donnees_etudiants.iloc[ :, -2]"
   ]
  },
  {
   "cell_type": "code",
   "execution_count": 1005,
   "id": "6a89d7e7-b328-450e-a618-0f47362b09f1",
   "metadata": {},
   "outputs": [
    {
     "data": {
      "text/html": [
       "<div>\n",
       "<style scoped>\n",
       "    .dataframe tbody tr th:only-of-type {\n",
       "        vertical-align: middle;\n",
       "    }\n",
       "\n",
       "    .dataframe tbody tr th {\n",
       "        vertical-align: top;\n",
       "    }\n",
       "\n",
       "    .dataframe thead th {\n",
       "        text-align: right;\n",
       "    }\n",
       "</style>\n",
       "<table border=\"1\" class=\"dataframe\">\n",
       "  <thead>\n",
       "    <tr style=\"text-align: right;\">\n",
       "      <th></th>\n",
       "      <th>matricule</th>\n",
       "      <th>nom</th>\n",
       "      <th>prenom</th>\n",
       "      <th>GPA</th>\n",
       "      <th>genre</th>\n",
       "      <th>pourcentage</th>\n",
       "    </tr>\n",
       "  </thead>\n",
       "  <tbody>\n",
       "    <tr>\n",
       "      <th>0</th>\n",
       "      <td>2022020123</td>\n",
       "      <td>sampatwa</td>\n",
       "      <td>diev</td>\n",
       "      <td>A</td>\n",
       "      <td>M</td>\n",
       "      <td>68</td>\n",
       "    </tr>\n",
       "    <tr>\n",
       "      <th>1</th>\n",
       "      <td>2022020786</td>\n",
       "      <td>kimenyembo</td>\n",
       "      <td>ketsia</td>\n",
       "      <td>B</td>\n",
       "      <td>F</td>\n",
       "      <td>78</td>\n",
       "    </tr>\n",
       "    <tr>\n",
       "      <th>2</th>\n",
       "      <td>2022876453</td>\n",
       "      <td>katumba</td>\n",
       "      <td>justin</td>\n",
       "      <td>C</td>\n",
       "      <td>M</td>\n",
       "      <td>87</td>\n",
       "    </tr>\n",
       "    <tr>\n",
       "      <th>3</th>\n",
       "      <td>2022013456</td>\n",
       "      <td>kalabo</td>\n",
       "      <td>chris</td>\n",
       "      <td>H</td>\n",
       "      <td>M</td>\n",
       "      <td>56</td>\n",
       "    </tr>\n",
       "    <tr>\n",
       "      <th>4</th>\n",
       "      <td>2022012323</td>\n",
       "      <td>kalombo</td>\n",
       "      <td>pascal</td>\n",
       "      <td>B</td>\n",
       "      <td>M</td>\n",
       "      <td>36</td>\n",
       "    </tr>\n",
       "    <tr>\n",
       "      <th>5</th>\n",
       "      <td>2022620123</td>\n",
       "      <td>mzenda</td>\n",
       "      <td>ruth</td>\n",
       "      <td>A</td>\n",
       "      <td>F</td>\n",
       "      <td>45</td>\n",
       "    </tr>\n",
       "    <tr>\n",
       "      <th>6</th>\n",
       "      <td>2012020786</td>\n",
       "      <td>ilunga</td>\n",
       "      <td>irene</td>\n",
       "      <td>B</td>\n",
       "      <td>M</td>\n",
       "      <td>50</td>\n",
       "    </tr>\n",
       "    <tr>\n",
       "      <th>7</th>\n",
       "      <td>2022876553</td>\n",
       "      <td>mzepu</td>\n",
       "      <td>jean</td>\n",
       "      <td>C</td>\n",
       "      <td>M</td>\n",
       "      <td>52</td>\n",
       "    </tr>\n",
       "    <tr>\n",
       "      <th>8</th>\n",
       "      <td>2027013456</td>\n",
       "      <td>mutunda</td>\n",
       "      <td>vanessa</td>\n",
       "      <td>H</td>\n",
       "      <td>F</td>\n",
       "      <td>48</td>\n",
       "    </tr>\n",
       "    <tr>\n",
       "      <th>9</th>\n",
       "      <td>2022012327</td>\n",
       "      <td>hangi</td>\n",
       "      <td>laily</td>\n",
       "      <td>B</td>\n",
       "      <td>F</td>\n",
       "      <td>49</td>\n",
       "    </tr>\n",
       "  </tbody>\n",
       "</table>\n",
       "</div>"
      ],
      "text/plain": [
       "    matricule         nom   prenom GPA genre  pourcentage\n",
       "0  2022020123    sampatwa     diev   A     M           68\n",
       "1  2022020786  kimenyembo   ketsia   B     F           78\n",
       "2  2022876453     katumba   justin   C     M           87\n",
       "3  2022013456      kalabo    chris   H     M           56\n",
       "4  2022012323     kalombo   pascal   B     M           36\n",
       "5  2022620123      mzenda     ruth   A     F           45\n",
       "6  2012020786      ilunga    irene   B     M           50\n",
       "7  2022876553       mzepu     jean   C     M           52\n",
       "8  2027013456     mutunda  vanessa   H     F           48\n",
       "9  2022012327       hangi    laily   B     F           49"
      ]
     },
     "execution_count": 1005,
     "metadata": {},
     "output_type": "execute_result"
    }
   ],
   "source": [
    "# ajout colonnes\n",
    "donnees_etudiants['genre'] = ['M','F' ,'M','M', 'M' ,'F', 'M', 'M','F', 'F']\n",
    "donnees_etudiants['pourcentage'] = [68, 78, 87,56 , 36, 45, 50, 52, 48,49]\n",
    "donnees_etudiants"
   ]
  },
  {
   "cell_type": "code",
   "execution_count": 1006,
   "id": "5399692a-d2fa-466a-972d-45b9a93edc5b",
   "metadata": {},
   "outputs": [
    {
     "data": {
      "text/html": [
       "<div>\n",
       "<style scoped>\n",
       "    .dataframe tbody tr th:only-of-type {\n",
       "        vertical-align: middle;\n",
       "    }\n",
       "\n",
       "    .dataframe tbody tr th {\n",
       "        vertical-align: top;\n",
       "    }\n",
       "\n",
       "    .dataframe thead th {\n",
       "        text-align: right;\n",
       "    }\n",
       "</style>\n",
       "<table border=\"1\" class=\"dataframe\">\n",
       "  <thead>\n",
       "    <tr style=\"text-align: right;\">\n",
       "      <th></th>\n",
       "      <th>matricule</th>\n",
       "      <th>nom</th>\n",
       "      <th>prenom</th>\n",
       "      <th>genre</th>\n",
       "      <th>pourcentage</th>\n",
       "    </tr>\n",
       "  </thead>\n",
       "  <tbody>\n",
       "    <tr>\n",
       "      <th>0</th>\n",
       "      <td>2022020123</td>\n",
       "      <td>sampatwa</td>\n",
       "      <td>diev</td>\n",
       "      <td>M</td>\n",
       "      <td>68</td>\n",
       "    </tr>\n",
       "    <tr>\n",
       "      <th>1</th>\n",
       "      <td>2022020786</td>\n",
       "      <td>kimenyembo</td>\n",
       "      <td>ketsia</td>\n",
       "      <td>F</td>\n",
       "      <td>78</td>\n",
       "    </tr>\n",
       "    <tr>\n",
       "      <th>2</th>\n",
       "      <td>2022876453</td>\n",
       "      <td>katumba</td>\n",
       "      <td>justin</td>\n",
       "      <td>M</td>\n",
       "      <td>87</td>\n",
       "    </tr>\n",
       "    <tr>\n",
       "      <th>3</th>\n",
       "      <td>2022013456</td>\n",
       "      <td>kalabo</td>\n",
       "      <td>chris</td>\n",
       "      <td>M</td>\n",
       "      <td>56</td>\n",
       "    </tr>\n",
       "    <tr>\n",
       "      <th>4</th>\n",
       "      <td>2022012323</td>\n",
       "      <td>kalombo</td>\n",
       "      <td>pascal</td>\n",
       "      <td>M</td>\n",
       "      <td>36</td>\n",
       "    </tr>\n",
       "    <tr>\n",
       "      <th>5</th>\n",
       "      <td>2022620123</td>\n",
       "      <td>mzenda</td>\n",
       "      <td>ruth</td>\n",
       "      <td>F</td>\n",
       "      <td>45</td>\n",
       "    </tr>\n",
       "    <tr>\n",
       "      <th>6</th>\n",
       "      <td>2012020786</td>\n",
       "      <td>ilunga</td>\n",
       "      <td>irene</td>\n",
       "      <td>M</td>\n",
       "      <td>50</td>\n",
       "    </tr>\n",
       "    <tr>\n",
       "      <th>7</th>\n",
       "      <td>2022876553</td>\n",
       "      <td>mzepu</td>\n",
       "      <td>jean</td>\n",
       "      <td>M</td>\n",
       "      <td>52</td>\n",
       "    </tr>\n",
       "    <tr>\n",
       "      <th>8</th>\n",
       "      <td>2027013456</td>\n",
       "      <td>mutunda</td>\n",
       "      <td>vanessa</td>\n",
       "      <td>F</td>\n",
       "      <td>48</td>\n",
       "    </tr>\n",
       "    <tr>\n",
       "      <th>9</th>\n",
       "      <td>2022012327</td>\n",
       "      <td>hangi</td>\n",
       "      <td>laily</td>\n",
       "      <td>F</td>\n",
       "      <td>49</td>\n",
       "    </tr>\n",
       "  </tbody>\n",
       "</table>\n",
       "</div>"
      ],
      "text/plain": [
       "    matricule         nom   prenom genre  pourcentage\n",
       "0  2022020123    sampatwa     diev     M           68\n",
       "1  2022020786  kimenyembo   ketsia     F           78\n",
       "2  2022876453     katumba   justin     M           87\n",
       "3  2022013456      kalabo    chris     M           56\n",
       "4  2022012323     kalombo   pascal     M           36\n",
       "5  2022620123      mzenda     ruth     F           45\n",
       "6  2012020786      ilunga    irene     M           50\n",
       "7  2022876553       mzepu     jean     M           52\n",
       "8  2027013456     mutunda  vanessa     F           48\n",
       "9  2022012327       hangi    laily     F           49"
      ]
     },
     "execution_count": 1006,
     "metadata": {},
     "output_type": "execute_result"
    }
   ],
   "source": [
    "# supprimer \n",
    "donnees_etudiants.drop(columns='GPA', inplace=True, axis=1)\n",
    "donnees_etudiants"
   ]
  },
  {
   "cell_type": "code",
   "execution_count": 1007,
   "id": "48703da8-e7a2-4d30-b61b-fc4dacc293ff",
   "metadata": {},
   "outputs": [],
   "source": [
    "#convertion de la colonne genre en M =1 et F=0\n",
    "#mapping de la colonne genre\n",
    "Mapping_genre ={\n",
    "    'M' :1,\n",
    "    'F' :0\n",
    "}\n",
    "\n",
    "donnees_etudiants['genre'] =donnees_etudiants['genre'].map(Mapping_genre)"
   ]
  },
  {
   "cell_type": "code",
   "execution_count": 1008,
   "id": "d2850675-7e92-4af1-9c92-258c8ca061ec",
   "metadata": {
    "scrolled": true
   },
   "outputs": [
    {
     "data": {
      "text/html": [
       "<div>\n",
       "<style scoped>\n",
       "    .dataframe tbody tr th:only-of-type {\n",
       "        vertical-align: middle;\n",
       "    }\n",
       "\n",
       "    .dataframe tbody tr th {\n",
       "        vertical-align: top;\n",
       "    }\n",
       "\n",
       "    .dataframe thead th {\n",
       "        text-align: right;\n",
       "    }\n",
       "</style>\n",
       "<table border=\"1\" class=\"dataframe\">\n",
       "  <thead>\n",
       "    <tr style=\"text-align: right;\">\n",
       "      <th></th>\n",
       "      <th>matricule</th>\n",
       "      <th>nom</th>\n",
       "      <th>prenom</th>\n",
       "      <th>genre</th>\n",
       "      <th>pourcentage</th>\n",
       "    </tr>\n",
       "  </thead>\n",
       "  <tbody>\n",
       "    <tr>\n",
       "      <th>0</th>\n",
       "      <td>2022020123</td>\n",
       "      <td>sampatwa</td>\n",
       "      <td>diev</td>\n",
       "      <td>1</td>\n",
       "      <td>68</td>\n",
       "    </tr>\n",
       "    <tr>\n",
       "      <th>1</th>\n",
       "      <td>2022020786</td>\n",
       "      <td>kimenyembo</td>\n",
       "      <td>ketsia</td>\n",
       "      <td>0</td>\n",
       "      <td>78</td>\n",
       "    </tr>\n",
       "    <tr>\n",
       "      <th>2</th>\n",
       "      <td>2022876453</td>\n",
       "      <td>katumba</td>\n",
       "      <td>justin</td>\n",
       "      <td>1</td>\n",
       "      <td>87</td>\n",
       "    </tr>\n",
       "    <tr>\n",
       "      <th>3</th>\n",
       "      <td>2022013456</td>\n",
       "      <td>kalabo</td>\n",
       "      <td>chris</td>\n",
       "      <td>1</td>\n",
       "      <td>56</td>\n",
       "    </tr>\n",
       "    <tr>\n",
       "      <th>4</th>\n",
       "      <td>2022012323</td>\n",
       "      <td>kalombo</td>\n",
       "      <td>pascal</td>\n",
       "      <td>1</td>\n",
       "      <td>36</td>\n",
       "    </tr>\n",
       "    <tr>\n",
       "      <th>5</th>\n",
       "      <td>2022620123</td>\n",
       "      <td>mzenda</td>\n",
       "      <td>ruth</td>\n",
       "      <td>0</td>\n",
       "      <td>45</td>\n",
       "    </tr>\n",
       "    <tr>\n",
       "      <th>6</th>\n",
       "      <td>2012020786</td>\n",
       "      <td>ilunga</td>\n",
       "      <td>irene</td>\n",
       "      <td>1</td>\n",
       "      <td>50</td>\n",
       "    </tr>\n",
       "    <tr>\n",
       "      <th>7</th>\n",
       "      <td>2022876553</td>\n",
       "      <td>mzepu</td>\n",
       "      <td>jean</td>\n",
       "      <td>1</td>\n",
       "      <td>52</td>\n",
       "    </tr>\n",
       "    <tr>\n",
       "      <th>8</th>\n",
       "      <td>2027013456</td>\n",
       "      <td>mutunda</td>\n",
       "      <td>vanessa</td>\n",
       "      <td>0</td>\n",
       "      <td>48</td>\n",
       "    </tr>\n",
       "    <tr>\n",
       "      <th>9</th>\n",
       "      <td>2022012327</td>\n",
       "      <td>hangi</td>\n",
       "      <td>laily</td>\n",
       "      <td>0</td>\n",
       "      <td>49</td>\n",
       "    </tr>\n",
       "  </tbody>\n",
       "</table>\n",
       "</div>"
      ],
      "text/plain": [
       "    matricule         nom   prenom  genre  pourcentage\n",
       "0  2022020123    sampatwa     diev      1           68\n",
       "1  2022020786  kimenyembo   ketsia      0           78\n",
       "2  2022876453     katumba   justin      1           87\n",
       "3  2022013456      kalabo    chris      1           56\n",
       "4  2022012323     kalombo   pascal      1           36\n",
       "5  2022620123      mzenda     ruth      0           45\n",
       "6  2012020786      ilunga    irene      1           50\n",
       "7  2022876553       mzepu     jean      1           52\n",
       "8  2027013456     mutunda  vanessa      0           48\n",
       "9  2022012327       hangi    laily      0           49"
      ]
     },
     "execution_count": 1008,
     "metadata": {},
     "output_type": "execute_result"
    }
   ],
   "source": [
    "donnees_etudiants"
   ]
  },
  {
   "cell_type": "code",
   "execution_count": 1009,
   "id": "6355a6b2-b528-4986-8d97-8d98f7da241b",
   "metadata": {},
   "outputs": [
    {
     "data": {
      "text/html": [
       "<div>\n",
       "<style scoped>\n",
       "    .dataframe tbody tr th:only-of-type {\n",
       "        vertical-align: middle;\n",
       "    }\n",
       "\n",
       "    .dataframe tbody tr th {\n",
       "        vertical-align: top;\n",
       "    }\n",
       "\n",
       "    .dataframe thead th {\n",
       "        text-align: right;\n",
       "    }\n",
       "</style>\n",
       "<table border=\"1\" class=\"dataframe\">\n",
       "  <thead>\n",
       "    <tr style=\"text-align: right;\">\n",
       "      <th></th>\n",
       "      <th>matricule</th>\n",
       "      <th>nom</th>\n",
       "      <th>prenom</th>\n",
       "      <th>genre</th>\n",
       "      <th>pourcentage</th>\n",
       "    </tr>\n",
       "  </thead>\n",
       "  <tbody>\n",
       "    <tr>\n",
       "      <th>0</th>\n",
       "      <td>2022020123</td>\n",
       "      <td>sampatwa</td>\n",
       "      <td>diev</td>\n",
       "      <td>0</td>\n",
       "      <td>68</td>\n",
       "    </tr>\n",
       "    <tr>\n",
       "      <th>1</th>\n",
       "      <td>2022020786</td>\n",
       "      <td>kimenyembo</td>\n",
       "      <td>ketsia</td>\n",
       "      <td>0</td>\n",
       "      <td>78</td>\n",
       "    </tr>\n",
       "    <tr>\n",
       "      <th>2</th>\n",
       "      <td>2022876453</td>\n",
       "      <td>katumba</td>\n",
       "      <td>justin</td>\n",
       "      <td>0</td>\n",
       "      <td>87</td>\n",
       "    </tr>\n",
       "    <tr>\n",
       "      <th>3</th>\n",
       "      <td>2022013456</td>\n",
       "      <td>kalabo</td>\n",
       "      <td>chris</td>\n",
       "      <td>0</td>\n",
       "      <td>56</td>\n",
       "    </tr>\n",
       "    <tr>\n",
       "      <th>4</th>\n",
       "      <td>2022012323</td>\n",
       "      <td>kalombo</td>\n",
       "      <td>pascal</td>\n",
       "      <td>0</td>\n",
       "      <td>36</td>\n",
       "    </tr>\n",
       "    <tr>\n",
       "      <th>5</th>\n",
       "      <td>2022620123</td>\n",
       "      <td>mzenda</td>\n",
       "      <td>ruth</td>\n",
       "      <td>0</td>\n",
       "      <td>45</td>\n",
       "    </tr>\n",
       "    <tr>\n",
       "      <th>6</th>\n",
       "      <td>2012020786</td>\n",
       "      <td>ilunga</td>\n",
       "      <td>irene</td>\n",
       "      <td>0</td>\n",
       "      <td>50</td>\n",
       "    </tr>\n",
       "    <tr>\n",
       "      <th>7</th>\n",
       "      <td>2022876553</td>\n",
       "      <td>mzepu</td>\n",
       "      <td>jean</td>\n",
       "      <td>0</td>\n",
       "      <td>52</td>\n",
       "    </tr>\n",
       "    <tr>\n",
       "      <th>8</th>\n",
       "      <td>2027013456</td>\n",
       "      <td>mutunda</td>\n",
       "      <td>vanessa</td>\n",
       "      <td>0</td>\n",
       "      <td>48</td>\n",
       "    </tr>\n",
       "    <tr>\n",
       "      <th>9</th>\n",
       "      <td>2022012327</td>\n",
       "      <td>hangi</td>\n",
       "      <td>laily</td>\n",
       "      <td>0</td>\n",
       "      <td>49</td>\n",
       "    </tr>\n",
       "  </tbody>\n",
       "</table>\n",
       "</div>"
      ],
      "text/plain": [
       "    matricule         nom   prenom  genre  pourcentage\n",
       "0  2022020123    sampatwa     diev      0           68\n",
       "1  2022020786  kimenyembo   ketsia      0           78\n",
       "2  2022876453     katumba   justin      0           87\n",
       "3  2022013456      kalabo    chris      0           56\n",
       "4  2022012323     kalombo   pascal      0           36\n",
       "5  2022620123      mzenda     ruth      0           45\n",
       "6  2012020786      ilunga    irene      0           50\n",
       "7  2022876553       mzepu     jean      0           52\n",
       "8  2027013456     mutunda  vanessa      0           48\n",
       "9  2022012327       hangi    laily      0           49"
      ]
     },
     "execution_count": 1009,
     "metadata": {},
     "output_type": "execute_result"
    }
   ],
   "source": [
    "donnees_etudiants['genre'] = np.where(donnees_etudiants['genre'] == 'M', 1,0)\n",
    "donnees_etudiants"
   ]
  },
  {
   "cell_type": "code",
   "execution_count": 1010,
   "id": "6707ea40-fab7-4661-bbc9-86b4996cff52",
   "metadata": {},
   "outputs": [
    {
     "name": "stdout",
     "output_type": "stream",
     "text": [
      "<class 'pandas.core.frame.DataFrame'>\n",
      "RangeIndex: 10 entries, 0 to 9\n",
      "Data columns (total 5 columns):\n",
      " #   Column       Non-Null Count  Dtype \n",
      "---  ------       --------------  ----- \n",
      " 0   matricule    10 non-null     object\n",
      " 1   nom          10 non-null     object\n",
      " 2   prenom       10 non-null     object\n",
      " 3   genre        10 non-null     int64 \n",
      " 4   pourcentage  10 non-null     int64 \n",
      "dtypes: int64(2), object(3)\n",
      "memory usage: 528.0+ bytes\n"
     ]
    }
   ],
   "source": [
    "donnees_etudiants.info()"
   ]
  },
  {
   "cell_type": "markdown",
   "id": "108e83d6-3520-42d1-ac66-939fbc6e7c77",
   "metadata": {},
   "source": [
    "## D.VISUALISATION"
   ]
  },
  {
   "cell_type": "code",
   "execution_count": 1011,
   "id": "a14e9df8-1929-4949-a240-21381b0f82e6",
   "metadata": {},
   "outputs": [],
   "source": [
    "# Importter matplotlib\n",
    "import matplotlib.pyplot as plt"
   ]
  },
  {
   "cell_type": "code",
   "execution_count": 1012,
   "id": "c278a057-b65f-4e75-a76f-b35506a863e8",
   "metadata": {},
   "outputs": [
    {
     "data": {
      "text/plain": [
       "array([0.        , 0.04081633, 0.08163265, 0.12244898, 0.16326531,\n",
       "       0.20408163, 0.24489796, 0.28571429, 0.32653061, 0.36734694,\n",
       "       0.40816327, 0.44897959, 0.48979592, 0.53061224, 0.57142857,\n",
       "       0.6122449 , 0.65306122, 0.69387755, 0.73469388, 0.7755102 ,\n",
       "       0.81632653, 0.85714286, 0.89795918, 0.93877551, 0.97959184,\n",
       "       1.02040816, 1.06122449, 1.10204082, 1.14285714, 1.18367347,\n",
       "       1.2244898 , 1.26530612, 1.30612245, 1.34693878, 1.3877551 ,\n",
       "       1.42857143, 1.46938776, 1.51020408, 1.55102041, 1.59183673,\n",
       "       1.63265306, 1.67346939, 1.71428571, 1.75510204, 1.79591837,\n",
       "       1.83673469, 1.87755102, 1.91836735, 1.95918367, 2.        ])"
      ]
     },
     "execution_count": 1012,
     "metadata": {},
     "output_type": "execute_result"
    }
   ],
   "source": [
    "x= np.linspace(0,2,50)\n",
    "x"
   ]
  },
  {
   "cell_type": "code",
   "execution_count": 1013,
   "id": "04c2c896-9e11-4059-8e2c-82cb2f872e00",
   "metadata": {},
   "outputs": [
    {
     "data": {
      "text/plain": [
       "<matplotlib.legend.Legend at 0x1fd8355cac0>"
      ]
     },
     "execution_count": 1013,
     "metadata": {},
     "output_type": "execute_result"
    },
    {
     "data": {
      "image/png": "[encoded data removed]",
      "text/plain": [
       "<Figure size 600x400 with 1 Axes>"
      ]
     },
     "metadata": {},
     "output_type": "display_data"
    }
   ],
   "source": [
    "fig, ax =plt.subplots(figsize=(6,4))\n",
    "ax.plot(x,x*2, label='double')\n",
    "ax.plot(x, x**2, label='care de x')\n",
    "ax.plot(x, x**3, label='cube de x')\n",
    "ax.set_xlabel('donnees de x')\n",
    "ax.set_ylabel('donnees de y')\n",
    "plt.title('donnees de linspace entre 0 et 2')\n",
    "ax.legend()"
   ]
  },
  {
   "cell_type": "code",
   "execution_count": 1014,
   "id": "cc6c094e-db98-472d-bce2-be215969a9dc",
   "metadata": {},
   "outputs": [],
   "source": [
    "# import seabon\n",
    "import seaborn as sns"
   ]
  },
  {
   "cell_type": "code",
   "execution_count": 1015,
   "id": "2dc08327-b08b-4e23-8f46-9cde6a7e2411",
   "metadata": {},
   "outputs": [
    {
     "data": {
      "text/html": [
       "<div>\n",
       "<style scoped>\n",
       "    .dataframe tbody tr th:only-of-type {\n",
       "        vertical-align: middle;\n",
       "    }\n",
       "\n",
       "    .dataframe tbody tr th {\n",
       "        vertical-align: top;\n",
       "    }\n",
       "\n",
       "    .dataframe thead th {\n",
       "        text-align: right;\n",
       "    }\n",
       "</style>\n",
       "<table border=\"1\" class=\"dataframe\">\n",
       "  <thead>\n",
       "    <tr style=\"text-align: right;\">\n",
       "      <th></th>\n",
       "      <th>sepal_length</th>\n",
       "      <th>sepal_width</th>\n",
       "      <th>petal_length</th>\n",
       "      <th>petal_width</th>\n",
       "      <th>species</th>\n",
       "    </tr>\n",
       "  </thead>\n",
       "  <tbody>\n",
       "    <tr>\n",
       "      <th>0</th>\n",
       "      <td>5.1</td>\n",
       "      <td>3.5</td>\n",
       "      <td>1.4</td>\n",
       "      <td>0.2</td>\n",
       "      <td>setosa</td>\n",
       "    </tr>\n",
       "    <tr>\n",
       "      <th>1</th>\n",
       "      <td>4.9</td>\n",
       "      <td>3.0</td>\n",
       "      <td>1.4</td>\n",
       "      <td>0.2</td>\n",
       "      <td>setosa</td>\n",
       "    </tr>\n",
       "    <tr>\n",
       "      <th>2</th>\n",
       "      <td>4.7</td>\n",
       "      <td>3.2</td>\n",
       "      <td>1.3</td>\n",
       "      <td>0.2</td>\n",
       "      <td>setosa</td>\n",
       "    </tr>\n",
       "    <tr>\n",
       "      <th>3</th>\n",
       "      <td>4.6</td>\n",
       "      <td>3.1</td>\n",
       "      <td>1.5</td>\n",
       "      <td>0.2</td>\n",
       "      <td>setosa</td>\n",
       "    </tr>\n",
       "    <tr>\n",
       "      <th>4</th>\n",
       "      <td>5.0</td>\n",
       "      <td>3.6</td>\n",
       "      <td>1.4</td>\n",
       "      <td>0.2</td>\n",
       "      <td>setosa</td>\n",
       "    </tr>\n",
       "  </tbody>\n",
       "</table>\n",
       "</div>"
      ],
      "text/plain": [
       "   sepal_length  sepal_width  petal_length  petal_width species\n",
       "0           5.1          3.5           1.4          0.2  setosa\n",
       "1           4.9          3.0           1.4          0.2  setosa\n",
       "2           4.7          3.2           1.3          0.2  setosa\n",
       "3           4.6          3.1           1.5          0.2  setosa\n",
       "4           5.0          3.6           1.4          0.2  setosa"
      ]
     },
     "execution_count": 1015,
     "metadata": {},
     "output_type": "execute_result"
    }
   ],
   "source": [
    "iris_data = sns.load_dataset('iris')\n",
    "iris_data.head()"
   ]
  },
  {
   "cell_type": "code",
   "execution_count": 1016,
   "id": "c972f489-1e4b-47a6-b787-e68d0871cbff",
   "metadata": {},
   "outputs": [
    {
     "data": {
      "text/plain": [
       "(150, 5)"
      ]
     },
     "execution_count": 1016,
     "metadata": {},
     "output_type": "execute_result"
    }
   ],
   "source": [
    "iris_data.shape"
   ]
  },
  {
   "cell_type": "code",
   "execution_count": 1017,
   "id": "2e89fe87-c3ac-40a6-bcca-0a44c364a955",
   "metadata": {},
   "outputs": [
    {
     "data": {
      "text/plain": [
       "array(['setosa', 'versicolor', 'virginica'], dtype=object)"
      ]
     },
     "execution_count": 1017,
     "metadata": {},
     "output_type": "execute_result"
    }
   ],
   "source": [
    "iris_data['species'].unique()"
   ]
  },
  {
   "cell_type": "code",
   "execution_count": 1018,
   "id": "435ab88b-9e15-46d3-bc00-0f3978b12cea",
   "metadata": {},
   "outputs": [
    {
     "data": {
      "text/plain": [
       "<Axes: xlabel='sepal_length', ylabel='sepal_width'>"
      ]
     },
     "execution_count": 1018,
     "metadata": {},
     "output_type": "execute_result"
    },
    {
     "data": {
      "image/png": "[encoded data removed]",
      "text/plain": [
       "<Figure size 640x480 with 1 Axes>"
      ]
     },
     "metadata": {},
     "output_type": "display_data"
    }
   ],
   "source": [
    "sns.scatterplot(x='sepal_length', y='sepal_width',data=iris_data,hue='species')"
   ]
  },
  {
   "cell_type": "code",
   "execution_count": 1019,
   "id": "09c81a4c-ad11-471d-9dff-2972545bfa9a",
   "metadata": {},
   "outputs": [
    {
     "data": {
      "text/plain": [
       "array([0, 1, 2])"
      ]
     },
     "execution_count": 1019,
     "metadata": {},
     "output_type": "execute_result"
    }
   ],
   "source": [
    "Mapping_species = {\n",
    "    'setosa' : 0,\n",
    "    'versicolor' : 1,\n",
    "    'virginica' : 2\n",
    "}\n",
    " \n",
    "iris_data['species'] =iris_data['species'].map(Mapping_species)\n",
    "\n",
    "iris_data['species'].unique()                                               "
   ]
  },
  {
   "cell_type": "code",
   "execution_count": null,
   "id": "16fb7184-6b4a-4aec-9b85-34c788819874",
   "metadata": {},
   "outputs": [],
   "source": []
  },
  {
   "cell_type": "code",
   "execution_count": null,
   "id": "77d89786-02e8-4951-b741-5c3b286635b2",
   "metadata": {},
   "outputs": [],
   "source": []
  }
 ],
 "metadata": {
  "kernelspec": {
   "display_name": "Python 3 (ipykernel)",
   "language": "python",
   "name": "python3"
  },
  "language_info": {
   "codemirror_mode": {
    "name": "ipython",
    "version": 3
   },
   "file_extension": ".py",
   "mimetype": "text/x-python",
   "name": "python",
   "nbconvert_exporter": "python",
   "pygments_lexer": "ipython3",
   "version": "3.10.16"
  }
 },
 "nbformat": 4,
 "nbformat_minor": 5
}
